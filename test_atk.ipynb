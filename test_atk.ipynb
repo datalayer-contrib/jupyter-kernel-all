{
 "cells": [
  {
   "cell_type": "code",
   "execution_count": null,
   "id": "91db32cc-d897-4d2c-b66b-0fe720f3f148",
   "metadata": {},
   "outputs": [],
   "source": [
    ">xpython\n",
    "import time\n",
    "for i in range(5):\n",
    "    time.sleep(1.0)\n",
    "    print('i:',i)"
   ]
  },
  {
   "cell_type": "code",
   "execution_count": null,
   "id": "2b0a0592-62f4-4ac0-a91f-7b1e8c3689a6",
   "metadata": {},
   "outputs": [],
   "source": [
    ">python3\n",
    "import time\n",
    "for i in range(10):\n",
    "    time.sleep(0.25)\n",
    "    print('i:',i)"
   ]
  },
  {
   "cell_type": "code",
   "execution_count": null,
   "id": "80802388-060a-4e75-96c1-32de4b0b8fed",
   "metadata": {},
   "outputs": [],
   "source": [
    ">xpython\n",
    "import time\n",
    "for i in range(5):\n",
    "    time.sleep(1.0)\n",
    "    print('i:',i)"
   ]
  },
  {
   "cell_type": "code",
   "execution_count": null,
   "id": "61771bc9-1361-4347-b27c-be7f24837bfc",
   "metadata": {},
   "outputs": [],
   "source": [
    ">python3\n",
    "import time\n",
    "for i in range(10):\n",
    "    time.sleep(0.25)\n",
    "    print('i:',i)"
   ]
  }
 ],
 "metadata": {
  "kernelspec": {
   "display_name": "All the Kernels",
   "language": "",
   "name": "atk"
  },
  "language_info": {
   "mimetype": "text/plain",
   "name": "all-of-them"
  }
 },
 "nbformat": 4,
 "nbformat_minor": 5
}
